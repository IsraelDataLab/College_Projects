{
 "cells": [
  {
   "cell_type": "markdown",
   "metadata": {},
   "source": [
    "# Week 4 Notebook - Linear Regression, Linear Discriminant, Logistic Regression"
   ]
  },
  {
   "cell_type": "markdown",
   "metadata": {},
   "source": [
    "## Simple Regression (using Least-Squares)"
   ]
  },
  {
   "cell_type": "code",
   "execution_count": 1,
   "metadata": {
    "collapsed": false
   },
   "outputs": [
    {
     "data": {
      "text/html": [
       "<div>\n",
       "<table border=\"1\" class=\"dataframe\">\n",
       "  <thead>\n",
       "    <tr style=\"text-align: right;\">\n",
       "      <th></th>\n",
       "      <th>chirps</th>\n",
       "      <th>temp</th>\n",
       "    </tr>\n",
       "  </thead>\n",
       "  <tbody>\n",
       "    <tr>\n",
       "      <th>10</th>\n",
       "      <td>17.2</td>\n",
       "      <td>82.6</td>\n",
       "    </tr>\n",
       "    <tr>\n",
       "      <th>11</th>\n",
       "      <td>15.4</td>\n",
       "      <td>69.4</td>\n",
       "    </tr>\n",
       "    <tr>\n",
       "      <th>12</th>\n",
       "      <td>14.4</td>\n",
       "      <td>76.3</td>\n",
       "    </tr>\n",
       "    <tr>\n",
       "      <th>13</th>\n",
       "      <td>14.7</td>\n",
       "      <td>69.7</td>\n",
       "    </tr>\n",
       "    <tr>\n",
       "      <th>14</th>\n",
       "      <td>17.1</td>\n",
       "      <td>82.0</td>\n",
       "    </tr>\n",
       "  </tbody>\n",
       "</table>\n",
       "</div>"
      ],
      "text/plain": [
       "    chirps  temp\n",
       "10    17.2  82.6\n",
       "11    15.4  69.4\n",
       "12    14.4  76.3\n",
       "13    14.7  69.7\n",
       "14    17.1  82.0"
      ]
     },
     "execution_count": 1,
     "metadata": {},
     "output_type": "execute_result"
    }
   ],
   "source": [
    "%matplotlib inline\n",
    "import pandas as pd \n",
    "import numpy as np\n",
    "import matplotlib.pyplot as plt\n",
    "from sklearn import preprocessing\n",
    "from sklearn import cross_validation\n",
    "\n",
    "np.random.seed(47)\n",
    "\n",
    "crickets = pd.DataFrame( {'chirps': [20.0,16.0,19.8,18.4,17.1,15.5,14.7,17.1,15.4,16.2, 15.0,17.2,16.0,17.0,14.4],\n",
    "    'temp': [88.6,71.6,93.3,84.3,80.6,75.2,69.7,82.0,69.4,83.3,79.6,82.6,80.6,83.5,76.3]} )\n",
    "\n",
    "crickets = crickets.reindex(np.random.permutation(crickets.index))\n",
    "crickets = crickets.reset_index(drop=True)\n",
    "\n",
    "X_train = crickets['temp'][:10].reshape(-1, 1)\n",
    "X_test  = crickets['temp'][10:].reshape(-1, 1)\n",
    "y_train = crickets['chirps'][:10].reshape(-1, 1)\n",
    "y_test  = crickets['chirps'][10:].reshape(-1, 1)\n",
    "\n",
    "crickets.tail()"
   ]
  },
  {
   "cell_type": "code",
   "execution_count": 2,
   "metadata": {
    "collapsed": false
   },
   "outputs": [
    {
     "data": {
      "image/png": "[encoded data removed]",
      "text/plain": [
       "<matplotlib.figure.Figure at 0x10649cd90>"
      ]
     },
     "metadata": {},
     "output_type": "display_data"
    }
   ],
   "source": [
    "from pandas.tools.plotting import scatter_matrix\n",
    "scatter_matrix(crickets.ix[:10], alpha=0.7, figsize=(5, 5), diagonal='kde');"
   ]
  },
  {
   "cell_type": "code",
   "execution_count": 3,
   "metadata": {
    "collapsed": false
   },
   "outputs": [
    {
     "name": "stdout",
     "output_type": "stream",
     "text": [
      "CPU times: user 1.29 ms, sys: 1.4 ms, total: 2.69 ms\n",
      "Wall time: 10.5 ms\n",
      "Coefficients: \n",
      "[[ 0.23284299]] [-2.00709617]\n",
      "Residual sum of squares: 0.73\n",
      "Variance score: 0.48\n"
     ]
    },
    {
     "data": {
      "image/png": "[encoded data removed]",
      "text/plain": [
       "<matplotlib.figure.Figure at 0x119382850>"
      ]
     },
     "metadata": {},
     "output_type": "display_data"
    }
   ],
   "source": [
    "from sklearn.linear_model import LinearRegression\n",
    "%time regr = LinearRegression().fit(X_train,y_train)\n",
    "\n",
    "# The coefficients\n",
    "print 'Coefficients: \\n', regr.coef_, regr.intercept_\n",
    "# The mean square error\n",
    "print \"Residual sum of squares: %.2f\" % np.mean((regr.predict(X_test) - y_test) ** 2)\n",
    "# Explained variance score: 1 is perfect prediction\n",
    "print 'Variance score: %.2f' % regr.score(X_test, y_test)\n",
    "\n",
    "# Plot outputs\n",
    "plt.scatter(X_test, y_test,  color='black')\n",
    "plt.plot(X_test, regr.predict(X_test), color='blue',\n",
    "         linewidth=3,alpha=0.5)\n",
    "plt.show()"
   ]
  },
  {
   "cell_type": "code",
   "execution_count": null,
   "metadata": {
    "collapsed": true
   },
   "outputs": [],
   "source": []
  }
 ],
 "metadata": {
  "kernelspec": {
   "display_name": "Python 2",
   "language": "python",
   "name": "python2"
  },
  "language_info": {
   "codemirror_mode": {
    "name": "ipython",
    "version": 2
   },
   "file_extension": ".py",
   "mimetype": "text/x-python",
   "name": "python",
   "nbconvert_exporter": "python",
   "pygments_lexer": "ipython2",
   "version": "2.7.12"
  }
 },
 "nbformat": 4,
 "nbformat_minor": 0
}
